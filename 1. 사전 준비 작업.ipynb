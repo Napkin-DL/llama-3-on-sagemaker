{
 "cells": [
  {
   "cell_type": "markdown",
   "metadata": {
    "tags": []
   },
   "source": [
    "# 1. 사전 준비 작업\n",
    "- https://www.philschmid.de/fsdp-qlora-llama3"
   ]
  },
  {
   "cell_type": "markdown",
   "metadata": {},
   "source": [
    "## 필요 패키지 설치 및 local docker repo 위치 변경"
   ]
  },
  {
   "cell_type": "code",
   "execution_count": 1,
   "metadata": {
    "tags": []
   },
   "outputs": [],
   "source": [
    "install_needed = True\n",
    "# install_needed = False"
   ]
  },
  {
   "cell_type": "code",
   "execution_count": 2,
   "metadata": {
    "tags": []
   },
   "outputs": [
    {
     "name": "stderr",
     "output_type": "stream",
     "text": [
      "Redirecting to /bin/systemctl stop docker.service\n",
      "Warning: Stopping docker.service, but it can still be activated by:\n",
      "  docker.socket\n"
     ]
    },
    {
     "name": "stdout",
     "output_type": "stream",
     "text": [
      "Add data-root and default-shm-size=10G\n",
      "sending incremental file list\n",
      "docker/\n",
      "docker/buildkit/cache.db\n",
      "         32,768 100%    0.00kB/s    0:00:00 (xfr#1, to-chk=24/37)\n",
      "docker/containers/\n",
      "docker/image/overlay2/\n",
      "docker/image/overlay2/repositories.json\n",
      "             19 100%   18.55kB/s    0:00:00 (xfr#2, to-chk=16/37)\n",
      "docker/image/overlay2/imagedb/content/sha256/\n",
      "docker/network/files/local-kv.db\n",
      "         65,536 100%   62.50MB/s    0:00:00 (xfr#3, to-chk=7/37)\n",
      "docker/overlay2/\n",
      "docker/overlay2/l/\n",
      "docker/runtimes/\n",
      "docker/tmp/\n",
      "docker/volumes/\n",
      "docker/volumes/backingFsBlockDev\n",
      "docker/volumes/metadata.db\n",
      "         32,768 100%   31.25MB/s    0:00:00 (xfr#4, to-chk=0/37)\n"
     ]
    },
    {
     "name": "stderr",
     "output_type": "stream",
     "text": [
      "Redirecting to /bin/systemctl start docker.service\n"
     ]
    },
    {
     "name": "stdout",
     "output_type": "stream",
     "text": [
      "Docker Restart\n"
     ]
    }
   ],
   "source": [
    "%%bash\n",
    "#!/bin/bash\n",
    "\n",
    "DAEMON_PATH=\"/etc/docker\"\n",
    "MEMORY_SIZE=10G\n",
    "\n",
    "FLAG=$(cat $DAEMON_PATH/daemon.json | jq 'has(\"data-root\")')\n",
    "# echo $FLAG\n",
    "\n",
    "if [ \"$FLAG\" == true ]; then\n",
    "    echo \"Already revised\"\n",
    "else\n",
    "    sudo service docker stop\n",
    "    echo \"Add data-root and default-shm-size=$MEMORY_SIZE\"\n",
    "    sudo cp $DAEMON_PATH/daemon.json $DAEMON_PATH/daemon.json.bak\n",
    "    sudo cat $DAEMON_PATH/daemon.json.bak | jq '. += {\"data-root\":\"/home/ec2-user/SageMaker/.container/docker\",\"default-shm-size\":\"'$MEMORY_SIZE'\"}' | sudo tee $DAEMON_PATH/daemon.json > /dev/null\n",
    "    sudo rsync -aP /var/lib/docker /home/ec2-user/SageMaker/.container\n",
    "    sudo service docker start\n",
    "    echo \"Docker Restart\"\n",
    "fi\n",
    "\n",
    "# sudo curl -L \"https://github.com/docker/compose/releases/download/v2.7.0/docker-compose-$(uname -s)-$(uname -m)\" -o /usr/local/bin/docker-compose\n",
    "# sudo chmod +x /usr/local/bin/docker-compose"
   ]
  },
  {
   "cell_type": "code",
   "execution_count": 3,
   "metadata": {
    "tags": []
   },
   "outputs": [
    {
     "name": "stdout",
     "output_type": "stream",
     "text": [
      "installing deps and restarting kernel\n"
     ]
    }
   ],
   "source": [
    "import sys\n",
    "import IPython\n",
    "\n",
    "if install_needed:\n",
    "    print(\"installing deps and restarting kernel\")\n",
    "    !{sys.executable} -m pip install --upgrade pip --quiet\n",
    "    !{sys.executable} -m pip install -U sagemaker transformers datasets peft trl bitsandbytes wandb mlflow==2.13.2 sagemaker-mlflow==0.1.0 --quiet\n",
    "    IPython.Application.instance().kernel.do_shutdown(True)"
   ]
  },
  {
   "cell_type": "markdown",
   "metadata": {},
   "source": [
    "If you are going to use Sagemaker in a local environment. You need access to an IAM Role with the required permissions for Sagemaker. You can find [here](https://docs.aws.amazon.com/sagemaker/latest/dg/sagemaker-roles.html) more about it.\n",
    "\n"
   ]
  },
  {
   "cell_type": "markdown",
   "metadata": {},
   "source": [
    "## 시작"
   ]
  },
  {
   "cell_type": "code",
   "execution_count": 35,
   "metadata": {
    "tags": []
   },
   "outputs": [],
   "source": [
    "import sagemaker\n",
    "from pathlib import Path\n",
    "from time import strftime\n",
    "\n",
    "sagemaker_session = sagemaker.Session()\n",
    "\n",
    "bucket = sagemaker_session.default_bucket()\n",
    "prefix = 'sagemaker/llama-3-1-kor-bllossom-8b'\n",
    "\n",
    "role = sagemaker.get_execution_role()"
   ]
  },
  {
   "cell_type": "code",
   "execution_count": 2,
   "metadata": {
    "tags": []
   },
   "outputs": [
    {
     "data": {
      "text/plain": [
       "'2.226.1'"
      ]
     },
     "execution_count": 2,
     "metadata": {},
     "output_type": "execute_result"
    }
   ],
   "source": [
    "sagemaker.__version__"
   ]
  },
  {
   "cell_type": "code",
   "execution_count": 3,
   "metadata": {
    "tags": []
   },
   "outputs": [],
   "source": [
    "import os\n",
    "\n",
    "os.environ['HF_DATASETS_CACHE'] = '/home/ec2-user/SageMaker/.cache'\n",
    "os.environ['HF_CACHE_HOME'] = '/home/ec2-user/SageMaker/.cache'\n",
    "os.environ['HUGGINGFACE_HUB_CACHE'] = '/home/ec2-user/SageMaker/.cache'\n",
    "# os.environ['TRANSFORMERS_HOME'] = '/home/ec2-user/SageMaker/.cache'\n",
    "# os.environ['HF_HOME'] = '/home/ec2-user/SageMaker/.cache'"
   ]
  },
  {
   "cell_type": "markdown",
   "metadata": {
    "tags": []
   },
   "source": [
    "## Model, tokenizer 저장 및 S3 업로드"
   ]
  },
  {
   "cell_type": "code",
   "execution_count": 4,
   "metadata": {
    "tags": []
   },
   "outputs": [],
   "source": [
    "from transformers import (\n",
    "    AutoModelForCausalLM,\n",
    "    AutoTokenizer\n",
    ")\n",
    "import torch\n",
    "from datasets import load_dataset\n",
    "import huggingface_hub\n",
    "from trl import setup_chat_format"
   ]
  },
  {
   "cell_type": "code",
   "execution_count": 5,
   "metadata": {
    "tags": []
   },
   "outputs": [],
   "source": [
    "test_model_id = \"MLP-KTLim/llama-3-Korean-Bllossom-8B\""
   ]
  },
  {
   "cell_type": "code",
   "execution_count": 6,
   "metadata": {
    "tags": []
   },
   "outputs": [
    {
     "data": {
      "application/vnd.jupyter.widget-view+json": {
       "model_id": "62bb382cc04a43b3a62806c4e60cbcfa",
       "version_major": 2,
       "version_minor": 0
      },
      "text/plain": [
       "Fetching 12 files:   0%|          | 0/12 [00:00<?, ?it/s]"
      ]
     },
     "metadata": {},
     "output_type": "display_data"
    },
    {
     "data": {
      "text/plain": [
       "'/home/ec2-user/SageMaker/2024/llama-3-on-sagemaker/llama-3-Korean-Bllossom-8B'"
      ]
     },
     "execution_count": 6,
     "metadata": {},
     "output_type": "execute_result"
    }
   ],
   "source": [
    "# custom_draft_model_id=\"meta-llama/Meta-Llama-3-8B\"\n",
    "\n",
    "hf_local_download_dir = Path.cwd() / \"llama-3-Korean-Bllossom-8B\"\n",
    "hf_local_download_dir.mkdir(exist_ok=True)\n",
    "\n",
    "huggingface_hub.snapshot_download(\n",
    "    repo_id=test_model_id,\n",
    "    revision=\"main\",\n",
    "    local_dir=hf_local_download_dir\n",
    ")"
   ]
  },
  {
   "cell_type": "code",
   "execution_count": 7,
   "metadata": {
    "tags": []
   },
   "outputs": [],
   "source": [
    "# Load tokenizer\n",
    "tokenizer = AutoTokenizer.from_pretrained(test_model_id)"
   ]
  },
  {
   "cell_type": "code",
   "execution_count": 8,
   "metadata": {
    "tags": []
   },
   "outputs": [
    {
     "data": {
      "application/vnd.jupyter.widget-view+json": {
       "model_id": "826b26fb49874b03b773b1598f643bdd",
       "version_major": 2,
       "version_minor": 0
      },
      "text/plain": [
       "Loading checkpoint shards:   0%|          | 0/4 [00:00<?, ?it/s]"
      ]
     },
     "metadata": {},
     "output_type": "display_data"
    }
   ],
   "source": [
    "# Load model\n",
    "model = AutoModelForCausalLM.from_pretrained(\n",
    "    test_model_id,\n",
    "    # torch_dtype=torch.bfloat16,\n",
    "    device_map=\"auto\",\n",
    ")"
   ]
  },
  {
   "cell_type": "code",
   "execution_count": 9,
   "metadata": {
    "tags": []
   },
   "outputs": [],
   "source": [
    "model, tokenizer = setup_chat_format(model, tokenizer)"
   ]
  },
  {
   "cell_type": "markdown",
   "metadata": {},
   "source": [
    "## 데이터 전처리 및 S3 업로드"
   ]
  },
  {
   "cell_type": "code",
   "execution_count": 10,
   "metadata": {
    "tags": []
   },
   "outputs": [],
   "source": [
    "tokenizer.save_pretrained(f'./model_weight/{test_model_id}')\n",
    "model.save_pretrained(f'./model_weight/{test_model_id}')"
   ]
  },
  {
   "cell_type": "code",
   "execution_count": 11,
   "metadata": {
    "tags": []
   },
   "outputs": [
    {
     "name": "stdout",
     "output_type": "stream",
     "text": [
      "input spec (in this case, just an S3 path): s3://sagemaker-us-west-2-322537213286/sagemaker/llama-3-1-kor-bllossom-8b/model_weight/MLP-KTLim/llama-3-Korean-Bllossom-8B\n"
     ]
    }
   ],
   "source": [
    "model_weight_path = sagemaker_session.upload_data(path=f'./model_weight/{test_model_id}', bucket=bucket, key_prefix=f\"{prefix}/model_weight/{test_model_id}\")\n",
    "print('input spec (in this case, just an S3 path): {}'.format(model_weight_path))"
   ]
  },
  {
   "cell_type": "code",
   "execution_count": 12,
   "metadata": {
    "tags": []
   },
   "outputs": [],
   "source": [
    "# 주가 증권 보고서 gemini 데이터셋\n",
    "hkcode_dataset = \"uiyong/gemini_result_kospi_0517_jsonl\""
   ]
  },
  {
   "cell_type": "code",
   "execution_count": 13,
   "metadata": {
    "tags": []
   },
   "outputs": [],
   "source": [
    "dataset = load_dataset(hkcode_dataset, split=\"train\")"
   ]
  },
  {
   "cell_type": "code",
   "execution_count": 14,
   "metadata": {
    "tags": []
   },
   "outputs": [
    {
     "data": {
      "text/plain": [
       "Dataset({\n",
       "    features: ['text'],\n",
       "    num_rows: 230\n",
       "})"
      ]
     },
     "execution_count": 14,
     "metadata": {},
     "output_type": "execute_result"
    }
   ],
   "source": [
    "dataset"
   ]
  },
  {
   "cell_type": "code",
   "execution_count": 15,
   "metadata": {
    "tags": []
   },
   "outputs": [
    {
     "data": {
      "application/vnd.jupyter.widget-view+json": {
       "model_id": "8fcbc0c6f51f44f8b50b606b3afe06b2",
       "version_major": 2,
       "version_minor": 0
      },
      "text/plain": [
       "Creating json from Arrow format:   0%|          | 0/1 [00:00<?, ?ba/s]"
      ]
     },
     "metadata": {},
     "output_type": "display_data"
    },
    {
     "data": {
      "application/vnd.jupyter.widget-view+json": {
       "model_id": "30b5c82e0a3f41578a4991ab4217961a",
       "version_major": 2,
       "version_minor": 0
      },
      "text/plain": [
       "Creating json from Arrow format:   0%|          | 0/1 [00:00<?, ?ba/s]"
      ]
     },
     "metadata": {},
     "output_type": "display_data"
    },
    {
     "name": "stdout",
     "output_type": "stream",
     "text": [
      "uploaded data to:\n",
      "training dataset to: s3://sagemaker-us-west-2-322537213286/sagemaker/llama-3-1-kor-bllossom-8b/gemini_result_kospi_0517/train/train_dataset.json\n",
      "test dataset to: s3://sagemaker-us-west-2-322537213286/sagemaker/llama-3-1-kor-bllossom-8b/gemini_result_kospi_0517/test/test_dataset.json\n"
     ]
    }
   ],
   "source": [
    "dataset_name = 'gemini_result_kospi_0517'\n",
    "\n",
    "# save train_dataset to s3\n",
    "local_training_input_path = f'{Path.cwd()}/dataset/train'\n",
    "dataset.to_json(f\"{local_training_input_path}/train_dataset.json\", orient=\"records\", force_ascii=False)\n",
    "training_input_path = sagemaker_session.upload_data(path=f\"{local_training_input_path}/train_dataset.json\", bucket=bucket, key_prefix=f\"{prefix}/{dataset_name}/train\")\n",
    "\n",
    "# save test_dataset to s3\n",
    "local_test_input_path = f'{Path.cwd()}/dataset/test'\n",
    "dataset.to_json(f\"{local_test_input_path}/test_dataset.json\", orient=\"records\", force_ascii=False)\n",
    "test_input_path = sagemaker_session.upload_data(path=f\"{local_test_input_path}/test_dataset.json\", bucket=bucket, key_prefix=f\"{prefix}/{dataset_name}/test\")\n",
    "\n",
    "print(\"uploaded data to:\")\n",
    "print(f\"training dataset to: {training_input_path}\")\n",
    "print(f\"test dataset to: {test_input_path}\")"
   ]
  },
  {
   "cell_type": "code",
   "execution_count": 16,
   "metadata": {
    "tags": []
   },
   "outputs": [
    {
     "name": "stdout",
     "output_type": "stream",
     "text": [
      "Stored 'test_model_id' (str)\n",
      "Stored 'bucket' (str)\n",
      "Stored 'prefix' (str)\n",
      "Stored 'model_weight_path' (str)\n",
      "Stored 'training_input_path' (str)\n",
      "Stored 'test_input_path' (str)\n",
      "Stored 'local_training_input_path' (str)\n",
      "Stored 'local_test_input_path' (str)\n",
      "test_model_id : MLP-KTLim/llama-3-Korean-Bllossom-8B\n",
      "bucket : sagemaker-us-west-2-322537213286\n",
      "prefix : sagemaker/llama-3-1-kor-bllossom-8b\n",
      "model_weight_path : s3://sagemaker-us-west-2-322537213286/sagemaker/llama-3-1-kor-bllossom-8b/model_weight/MLP-KTLim/llama-3-Korean-Bllossom-8B\n",
      "training_input_path : s3://sagemaker-us-west-2-322537213286/sagemaker/llama-3-1-kor-bllossom-8b/gemini_result_kospi_0517/train/train_dataset.json\n",
      "test_input_path : s3://sagemaker-us-west-2-322537213286/sagemaker/llama-3-1-kor-bllossom-8b/gemini_result_kospi_0517/test/test_dataset.json\n",
      "local_training_input_path : /home/ec2-user/SageMaker/2024/llama-3-on-sagemaker/dataset/train\n",
      "local_test_input_path : /home/ec2-user/SageMaker/2024/llama-3-on-sagemaker/dataset/test\n"
     ]
    }
   ],
   "source": [
    "%store test_model_id\n",
    "%store bucket\n",
    "%store prefix\n",
    "%store model_weight_path\n",
    "%store training_input_path\n",
    "%store test_input_path\n",
    "%store local_training_input_path\n",
    "%store local_test_input_path\n",
    "\n",
    "print(f\"test_model_id : {test_model_id}\")\n",
    "print(f\"bucket : {bucket}\")\n",
    "print(f\"prefix : {prefix}\")\n",
    "print(f\"model_weight_path : {model_weight_path}\")\n",
    "print(f\"training_input_path : {training_input_path}\")\n",
    "print(f\"test_input_path : {test_input_path}\")\n",
    "print(f\"local_training_input_path : {local_training_input_path}\")\n",
    "print(f\"local_test_input_path : {local_test_input_path}\")"
   ]
  },
  {
   "cell_type": "markdown",
   "metadata": {},
   "source": [
    "#### mlflow policy\n",
    "```python\n",
    "{\n",
    "    \"Version\": \"2012-10-17\",    \n",
    "    \"Statement\": [        \n",
    "        {            \n",
    "            \"Effect\": \"Allow\",            \n",
    "            \"Action\": [\n",
    "                \"sagemaker-mlflow:*\",\n",
    "                \"sagemaker:CreateMlflowTrackingServer\",\n",
    "                \"sagemaker:UpdateMlflowTrackingServer\",\n",
    "                \"sagemaker:DeleteMlflowTrackingServer\",\n",
    "                \"sagemaker:StartMlflowTrackingServer\",\n",
    "                \"sagemaker:StopMlflowTrackingServer\",\n",
    "                \"sagemaker:CreatePresignedMlflowTrackingServerUrl\"\n",
    "            ],            \n",
    "            \"Resource\": \"*\"        \n",
    "        }        \n",
    "    ]\n",
    "}\n",
    "```\n",
    "\n",
    "#### SSM access policy\n",
    "arn:aws:iam::aws:policy/AmazonSSMFullAccess"
   ]
  },
  {
   "cell_type": "markdown",
   "metadata": {},
   "source": [
    "## SageMaker mlflow 생성"
   ]
  },
  {
   "cell_type": "code",
   "execution_count": 9,
   "metadata": {
    "tags": []
   },
   "outputs": [],
   "source": [
    "import sagemaker, boto3\n",
    "import json"
   ]
  },
  {
   "cell_type": "code",
   "execution_count": 10,
   "metadata": {
    "tags": []
   },
   "outputs": [],
   "source": [
    "sess = sagemaker.Session()\n",
    "bucket_name = sess.default_bucket()\n",
    "role = sagemaker.get_execution_role()\n",
    "region = sess.boto_region_name\n",
    "\n",
    "iam_client = boto3.client(\"iam\")\n",
    "sts_client = boto3.client(\"sts\")\n",
    "sm_client = boto3.client(\"sagemaker\")\n",
    "account_id = sts_client.get_caller_identity()[\"Account\"]"
   ]
  },
  {
   "cell_type": "code",
   "execution_count": 11,
   "metadata": {
    "tags": []
   },
   "outputs": [
    {
     "name": "stdout",
     "output_type": "stream",
     "text": [
      "SageMaker Execution Role Name: AmazonSageMaker-ExecutionRole-20230604T222555\n"
     ]
    }
   ],
   "source": [
    "from sagemaker import get_execution_role\n",
    "sagemaker_role_name = get_execution_role().rsplit('/', 1)[-1]\n",
    "print (f\"SageMaker Execution Role Name: {sagemaker_role_name}\")"
   ]
  },
  {
   "cell_type": "code",
   "execution_count": 12,
   "metadata": {
    "tags": []
   },
   "outputs": [
    {
     "data": {
      "text/plain": [
       "{'ResponseMetadata': {'RequestId': 'b2784656-65a5-4e36-a71b-f6299e1b6e44',\n",
       "  'HTTPStatusCode': 200,\n",
       "  'HTTPHeaders': {'date': 'Wed, 31 Jul 2024 04:20:36 GMT',\n",
       "   'x-amzn-requestid': 'b2784656-65a5-4e36-a71b-f6299e1b6e44',\n",
       "   'content-type': 'text/xml',\n",
       "   'content-length': '212'},\n",
       "  'RetryAttempts': 0}}"
      ]
     },
     "execution_count": 12,
     "metadata": {},
     "output_type": "execute_result"
    }
   ],
   "source": [
    "sm_mlflow_execution_policy = {\n",
    "    \"Version\": \"2012-10-17\",    \n",
    "    \"Statement\": [        \n",
    "        {            \n",
    "            \"Effect\": \"Allow\",            \n",
    "            \"Action\": [\n",
    "                \"sagemaker-mlflow:*\",\n",
    "                \"sagemaker:CreateMlflowTrackingServer\",\n",
    "                \"sagemaker:UpdateMlflowTrackingServer\",\n",
    "                \"sagemaker:DeleteMlflowTrackingServer\",\n",
    "                \"sagemaker:StartMlflowTrackingServer\",\n",
    "                \"sagemaker:StopMlflowTrackingServer\",\n",
    "                \"sagemaker:CreatePresignedMlflowTrackingServerUrl\"\n",
    "            ],            \n",
    "            \"Resource\": \"*\"        \n",
    "        }        \n",
    "    ]\n",
    "}\n",
    "\n",
    "sagemaker_role_name = get_execution_role().rsplit('/', 1)[-1]\n",
    "sagemaker_exe_role_arn = get_execution_role()\n",
    "\n",
    "sm_mlflow_execution_policy_info = iam_client.create_policy(\n",
    "    PolicyName=\"sm-mlflow-execution-policy\",\n",
    "    PolicyDocument=json.dumps(sm_mlflow_execution_policy)\n",
    ")\n",
    "\n",
    "sm_mlflow_execution_policy_arn = sm_mlflow_execution_policy_info[\"Policy\"][\"Arn\"]\n",
    "\n",
    "# Attach the policy to the MLflow role\n",
    "iam_client.attach_role_policy(\n",
    "    RoleName=sagemaker_role_name, PolicyArn=sm_mlflow_execution_policy_arn\n",
    ")"
   ]
  },
  {
   "cell_type": "code",
   "execution_count": 44,
   "metadata": {
    "tags": []
   },
   "outputs": [],
   "source": [
    "flag = \"240801-1\""
   ]
  },
  {
   "cell_type": "code",
   "execution_count": 45,
   "metadata": {
    "tags": []
   },
   "outputs": [],
   "source": [
    "tracking_server_name = f\"mlflow-tracking-{flag}\"\n",
    "mlflow_tracking_server_role_name = f\"mlflow-tracking-server-{flag}\""
   ]
  },
  {
   "cell_type": "code",
   "execution_count": 46,
   "metadata": {
    "tags": []
   },
   "outputs": [
    {
     "data": {
      "text/plain": [
       "{'ResponseMetadata': {'RequestId': '8cbba772-a40f-47c1-b4c3-7754259ccbf8',\n",
       "  'HTTPStatusCode': 200,\n",
       "  'HTTPHeaders': {'date': 'Thu, 01 Aug 2024 10:58:49 GMT',\n",
       "   'x-amzn-requestid': '8cbba772-a40f-47c1-b4c3-7754259ccbf8',\n",
       "   'content-type': 'text/xml',\n",
       "   'content-length': '212'},\n",
       "  'RetryAttempts': 0}}"
      ]
     },
     "execution_count": 46,
     "metadata": {},
     "output_type": "execute_result"
    }
   ],
   "source": [
    "mlflow_trust_policy = {\n",
    "    \"Version\": \"2012-10-17\",\n",
    "    \"Statement\": [\n",
    "        {\n",
    "            \"Effect\": \"Allow\",\n",
    "            \"Principal\": {\"Service\": [\"sagemaker.amazonaws.com\"]},\n",
    "            \"Action\": \"sts:AssumeRole\",\n",
    "        }\n",
    "    ],\n",
    "}\n",
    "\n",
    "# Create role for MLflow\n",
    "mlflow_role = iam_client.create_role(\n",
    "    RoleName=mlflow_tracking_server_role_name,\n",
    "    AssumeRolePolicyDocument=json.dumps(mlflow_trust_policy)\n",
    ")\n",
    "mlflow_role_arn = mlflow_role[\"Role\"][\"Arn\"]\n",
    "\n",
    "# Create policy for S3 and SageMaker Model Registry\n",
    "sm_s3_model_registry_policy = {\n",
    "    \"Version\": \"2012-10-17\",\n",
    "    \"Statement\": [\n",
    "        {\n",
    "            \"Effect\": \"Allow\",\n",
    "            \"Action\": [\n",
    "                \"s3:Get*\",\n",
    "                \"s3:Put*\",\n",
    "                \"s3:List*\",\n",
    "                \"sagemaker:AddTags\",\n",
    "                \"sagemaker:CreateModelPackageGroup\",\n",
    "                \"sagemaker:CreateModelPackage\",\n",
    "                \"sagemaker:UpdateModelPackage\",\n",
    "                \"sagemaker:DescribeModelPackageGroup\",\n",
    "            ],\n",
    "            \"Resource\": \"*\",\n",
    "        }\n",
    "    ],\n",
    "}\n",
    "\n",
    "mlflow_s3_sm_model_registry_iam_policy = iam_client.create_policy(\n",
    "    PolicyName=f\"mlflow-s3-sm-model-registry-{flag}\", PolicyDocument=json.dumps(sm_s3_model_registry_policy)\n",
    ")\n",
    "mlflow_s3_sm_model_registry_iam_policy_arn = mlflow_s3_sm_model_registry_iam_policy[\"Policy\"][\"Arn\"]\n",
    "\n",
    "# Attach the policy to the MLflow role\n",
    "iam_client.attach_role_policy(\n",
    "    RoleName=mlflow_tracking_server_role_name, \n",
    "    PolicyArn=mlflow_s3_sm_model_registry_iam_policy_arn\n",
    ")"
   ]
  },
  {
   "cell_type": "code",
   "execution_count": 22,
   "metadata": {
    "tags": []
   },
   "outputs": [
    {
     "data": {
      "text/plain": [
       "{'TrackingServerArn': 'arn:aws:sagemaker:us-west-2:322537213286:mlflow-tracking-server/mlflow-tracking-240801',\n",
       " 'ResponseMetadata': {'RequestId': '82ef71d7-3c85-40d2-ae35-df1697fceee4',\n",
       "  'HTTPStatusCode': 200,\n",
       "  'HTTPHeaders': {'x-amzn-requestid': '82ef71d7-3c85-40d2-ae35-df1697fceee4',\n",
       "   'content-type': 'application/x-amz-json-1.1',\n",
       "   'content-length': '110',\n",
       "   'date': 'Wed, 31 Jul 2024 04:22:55 GMT'},\n",
       "  'RetryAttempts': 0}}"
      ]
     },
     "execution_count": 22,
     "metadata": {},
     "output_type": "execute_result"
    }
   ],
   "source": [
    "sm_client.create_mlflow_tracking_server(\n",
    "    TrackingServerName=tracking_server_name,\n",
    "    ArtifactStoreUri=f\"s3://{bucket_name}/{tracking_server_name}\",\n",
    "    TrackingServerSize=\"Small\",\n",
    "    MlflowVersion=\"2.13.2\",\n",
    "    RoleArn=mlflow_role_arn,\n",
    "    AutomaticModelRegistration=False,\n",
    ")"
   ]
  },
  {
   "cell_type": "code",
   "execution_count": 25,
   "metadata": {
    "tags": []
   },
   "outputs": [
    {
     "data": {
      "text/plain": [
       "'arn:aws:sagemaker:us-west-2:322537213286:mlflow-tracking-server/mlflow-tracking-240801'"
      ]
     },
     "execution_count": 25,
     "metadata": {},
     "output_type": "execute_result"
    }
   ],
   "source": [
    "tracking_server_arn = (\n",
    "    f\"arn:aws:sagemaker:{region}:{account_id}:mlflow-tracking-server/{tracking_server_name}\"\n",
    ")\n",
    "tracking_server_arn"
   ]
  },
  {
   "cell_type": "code",
   "execution_count": 30,
   "metadata": {
    "tags": []
   },
   "outputs": [
    {
     "name": "stdout",
     "output_type": "stream",
     "text": [
      "mlflow training server is Active\n"
     ]
    }
   ],
   "source": [
    "import time\n",
    "\n",
    "while True:\n",
    "    ml_tracking_server = sm_client.describe_mlflow_tracking_server(TrackingServerName=tracking_server_name)\n",
    "    if ml_tracking_server['IsActive'] == 'Active':\n",
    "        print(\"mlflow training server is Active\")\n",
    "        break\n",
    "    else:\n",
    "        print(\"mlflow training server is Creating\")\n",
    "        time.sleep(20)"
   ]
  },
  {
   "cell_type": "code",
   "execution_count": 32,
   "metadata": {
    "tags": []
   },
   "outputs": [
    {
     "name": "stdout",
     "output_type": "stream",
     "text": [
      "tracking_server_arn: arn:aws:sagemaker:us-west-2:322537213286:mlflow-tracking-server/mlflow-tracking-240801\n"
     ]
    }
   ],
   "source": [
    "import mlflow\n",
    "\n",
    "mlflow.set_tracking_uri(tracking_server_arn)\n",
    "print (f'tracking_server_arn: {tracking_server_arn}')"
   ]
  },
  {
   "cell_type": "code",
   "execution_count": 36,
   "metadata": {
    "tags": []
   },
   "outputs": [
    {
     "data": {
      "text/plain": [
       "'1'"
      ]
     },
     "execution_count": 36,
     "metadata": {},
     "output_type": "execute_result"
    }
   ],
   "source": [
    "mlflow.create_experiment(name=prefix.split(\"/\")[-1])"
   ]
  },
  {
   "cell_type": "code",
   "execution_count": 43,
   "metadata": {
    "tags": []
   },
   "outputs": [
    {
     "data": {
      "text/plain": [
       "{'AuthorizedUrl': 'https://t-ai32fzpimsby.us-west-2.experiments.sagemaker.aws/auth?authToken=eyJhbGciOiJIUzI1NiJ9.eyJhdXRoVG9rZW5JZCI6IjI1MDE3MDk3LWRmZWEtNGFlNC05OTE4LTc5OTQ0OGNjMjUyNSIsImZhc0NyZWRlbnRpYWxzIjoiQWdWNHZwUGZlTk81Mi9mUjhNeTFjQnk3bDRaRzZ1QUlVMTVTNTRNQ3dhNXJaRndBWHdBQkFCVmhkM010WTNKNWNIUnZMWEIxWW14cFl5MXJaWGtBUkVGeFZHVnNSa05STUM5eWFTOUthR2RLYVRSMmMxQlBOVUZSTldSWmMxSkRVWGM1WTNWQlRsWnFRMWhuWmpKeVRsTjBNVXhRWVZvM00wMXdjWGxGTWxORlp6MDlBQUVBQjJGM2N5MXJiWE1BUzJGeWJqcGhkM002YTIxek9uVnpMWGRsYzNRdE1qbzFPVEF4T0RNM016azFNRFE2YTJWNUx6ZzNabUUxTVdReUxURTRNRGt0TkdVMFl5MWhObVV6TFRRNFpXWTNNelk1WW1NM1lnQzRBUUlCQUhneXZiSTRoY0UxaXBwaCtZcDhxRkZCOEo0ZzZ3RjFucFd0dks2NlZ0VHN1d0dXNlIzV3U1elJwckxONUo4bzBEMzJBQUFBZmpCOEJna3Foa2lHOXcwQkJ3YWdiekJ0QWdFQU1HZ0dDU3FHU0liM0RRRUhBVEFlQmdsZ2hrZ0JaUU1FQVM0d0VRUU1UaHI2QS9ZSkFjbVdmbG42QWdFUWdEdnBKT2ZOV0ZUWVplWlNmTXROMVp6MTNGMUdZWHZ5NkdRanhuL002aEdoK1dvZ2N6VkQxWmhiendvQ2YvejBpbzJaZTBjUm1xVVRQSXQvT1FJQUFCQUFxc3d5WllYNmhMNmMvMjhxVDhwSnBKWmoxK0JUWXlhMjBBaGhtZlZwTlh3YmR3MkZJbUtEMlFLSHpRL2QyaEZ5Ly8vLy93QUFBQUVBQUFBQUFBQUFBQUFBQUFFQUFBT0QySzlyeitDOXQ2ajFRd0VVV2orVUczSE8zZEUrQkNZTjBwUmY0VCtiUEIyd0hkSDU0WEw3ZVNFMzZvN3BQb0xJckRMdkEvbGJJM3lLK0NxcndwMFdJVmJ6eXZKYzZodzF0bWx4YTJXTGJkc0JVNnF4aDdFYXdoVW1XRUU5dkd5b2VzeGV5R2Z1dEdZd215QURhQ1hUa0FaT215cC9pbjRpRnNLOFhZQlQ5R0dQY2c3a0tvS2ppTjRocGd0aDV4M2x5VFVycE4xbXd2QmczS1lXVG9wSDBaWUhGTnVzb2xwTHZkTENKR3lhT2JNWERlNlN5NXRpK0QzZnpsRW0xNTZBQ0pkVk5ic2NINXpRMEF6MnhGQUhuZDJaSjlzVVVTbUlUay9NUCtCVWpZS3hDY05NZWx6UTNCUWlUMU12ZFVoclNvdit2dnIvSEdSSmZqbHpOVHhjVnJPcTJSaktNNmdLeWRRdUw0TllxRHpDcHFtUFpPQzBncFhTT2pxR2EzQ2FaOGtpamdmUHZ5dXhNZ0ZVZndNTEEwaWdpakpHZzVOUVZXTUxvZkZWNGJPM2Z1SktlbGJYeTUxcHRpUzNIeEQ1aXZjWTkvYzUwNlNCcHNUK1U0dXJIV3l5Q0pmR1pSV3lMc0NWK3BZQ0xrMlBKOWg3SFZaYVF1UjBHY282Qy9NVnQxZjdjQm5OM204WlZUUWlvUVdZV2dlNndNVng2YlhtRUR3cHBOY1NmVTJOTHhnRDhJMDhZaHZ0K1ZsWHB0Q1VDYWl6eXhWLzhEcFhWekpNOHpmM3JlTkZ6ZUwwVDd3S2FkV25VRHpPQUxMcFdZeExoWml4b3k3NFRRc1VoeTVzMS91b0x2ZXRXSUpXOE5INVg3cUxmVDkwYTN5T2c4YUNnUTlHWEtveDIwZ1hzak11THk2WEUrNVFITW90SUMxQkp6KzIvUnBQdjVHZnFiU0ZZa2E5Ync0dFNOLzFBUjBHUzlDOEs2MllUNjdaaSt1TnNCYUJlcjFHTTNjczlBSzJmUi9wc0xhWXdKL0FkeDIwTWh0enl4YUZweEVvN0dTb2tKdjk2MzUvcDljQmpUaEd4NjcySmdqdGRUekoyZGNXTHF1MGdwSTdXVU80dmQxaTVMVGoyajZyRnlRekR2eUFrZFM2Z0pFQnVNUVJxbGc0K3pVdGR5ZGNiRE1ITEVNWk5aM2wzd3BDQmpQMGkvMlBWcms5bHRXRnVtTEZnZUdrZkpqREkzR0x4MmdTaGJkNVhETjVoWWdMWkQrMkFaenRvTnRkNjIyd3kreGFNM0RUYW9ySzlobDE2cVBacXlYeEthU0NBN2ROQ29NWEp5Y0tZQldJenNteUkvY1Z0Qm9qeFgyUG04dEx5SHNtY3Q0U0hFTmh0VGdHY0JzR0M2c3BkK3dicmVqemZ6eEYxQnpNZktHWTc4azUvbjRHQTVRK0lqd2h2WGViUmhPMi85ZHorM21RVEQ4SzFMTE5xRUFnSlQ3WUt3YkFwaHJEV3FrRUNlU3h1dWsraXU3eXhWRWZiYnc2dk1wMGdXODNvWjJUblZIelZMcWs2REpKZGZGaE15Q3FlNldwTHVxT3J6d2dhbnJLdytQY3V6ZkZsZVdtWVhLakFHY3daUUl4QU9KMDBrNXV4aTE0TkY2K015bmo0dllJUVJhc3BPTUduRTZ2L3A1Z0tGeFJzOEJnWWMxazhOM2FPNnZ5TlJYNit3SXdJQ3R2cVNjU2twaHNoc1JLZ1BzMnN6dk9lditPTUtUOVV2OWVEOGlBTUU0Tkd6TXc5OE4vR05CbFhzNkE2d1dLIiwiY2lwaGVyVGV4dCI6IkFRSUJBSGd5dmJJNGhjRTFpcHBoK1lwOHFGRkI4SjRnNndGMW5wV3R2SzY2VnRUc3V3RXBZM1g5aVROTFErUWZPOG16VWw1UEFBQUFvakNCbndZSktvWklodmNOQVFjR29JR1JNSUdPQWdFQU1JR0lCZ2txaGtpRzl3MEJCd0V3SGdZSllJWklBV1VEQkFFdU1CRUVER2wyaG9WZDlzQnh3S0lOZ3dJQkVJQmJ0YndkNjBFaHEyd1k2Q3VaNkFtMVVoeVpBcEZ1M3p5MzJqcGFNMGhxY3JHSmVFRk9ORUNZYk9sdWRTL1o0MitaSmplQXZqSmh4UTI2aE1MWXhjN0sxVThWODRLQjMwL1MxTHlZVFltWnFrZlVXdG5kNWlSN1RMWjdRdz09Iiwic3ViIjoiYXJuOmF3czpzYWdlbWFrZXI6dXMtd2VzdC0yOjMyMjUzNzIxMzI4NjptbGZsb3ctdHJhY2tpbmctc2VydmVyL21sZmxvdy10cmFja2luZy0yNDA4MDEiLCJpYXQiOjE3MjI0MTIzMjQsImV4cCI6MTcyMjQxMjYyNH0.AGAyGQP-KXBMvh4hD8nfwuCeapdIq1RqDFOO59L8faY',\n",
       " 'ResponseMetadata': {'RequestId': '83156313-61d5-4bcb-9e2b-66962fd18b26',\n",
       "  'HTTPStatusCode': 200,\n",
       "  'HTTPHeaders': {'x-amzn-requestid': '83156313-61d5-4bcb-9e2b-66962fd18b26',\n",
       "   'content-type': 'application/x-amz-json-1.1',\n",
       "   'content-length': '3518',\n",
       "   'date': 'Wed, 31 Jul 2024 07:52:03 GMT'},\n",
       "  'RetryAttempts': 0}}"
      ]
     },
     "execution_count": 43,
     "metadata": {},
     "output_type": "execute_result"
    }
   ],
   "source": [
    "sm_client.create_presigned_mlflow_tracking_server_url(TrackingServerName=tracking_server_name, \n",
    "                                                      ExpiresInSeconds=300,\n",
    "                                                      SessionExpirationDurationInSeconds=43200)"
   ]
  },
  {
   "cell_type": "code",
   "execution_count": null,
   "metadata": {},
   "outputs": [],
   "source": []
  }
 ],
 "metadata": {
  "kernelspec": {
   "display_name": "conda_pytorch_p310",
   "language": "python",
   "name": "conda_pytorch_p310"
  },
  "language_info": {
   "codemirror_mode": {
    "name": "ipython",
    "version": 3
   },
   "file_extension": ".py",
   "mimetype": "text/x-python",
   "name": "python",
   "nbconvert_exporter": "python",
   "pygments_lexer": "ipython3",
   "version": "3.10.14"
  },
  "vscode": {
   "interpreter": {
    "hash": "2d58e898dde0263bc564c6968b04150abacfd33eed9b19aaa8e45c040360e146"
   }
  }
 },
 "nbformat": 4,
 "nbformat_minor": 4
}
